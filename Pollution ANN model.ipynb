{
 "cells": [
  {
   "cell_type": "code",
   "execution_count": 2,
   "id": "ae922659",
   "metadata": {},
   "outputs": [],
   "source": [
    "from sklearn.neural_network import MLPClassifier, MLPRegressor\n",
    "from sklearn.model_selection import train_test_split\n",
    "from sklearn.metrics import mean_squared_error, mean_absolute_error\n",
    "from sklearn.model_selection import GridSearchCV\n",
    "import matplotlib.pyplot as plt\n",
    "import pandas as pd\n",
    "import numpy as np\n",
    "import datetime"
   ]
  },
  {
   "cell_type": "code",
   "execution_count": 113,
   "id": "525b2d0f",
   "metadata": {},
   "outputs": [
    {
     "data": {
      "text/plain": [
       "8853"
      ]
     },
     "execution_count": 113,
     "metadata": {},
     "output_type": "execute_result"
    }
   ],
   "source": [
    "data = pd.read_csv('bangkok-air-quality.csv')\n",
    "df = pd.DataFrame(data)\n",
    "df = df[['date',' pm25',' pm10']]\n",
    "df.size"
   ]
  },
  {
   "cell_type": "markdown",
   "id": "f3a77bed",
   "metadata": {},
   "source": [
    "This data includes 8,853 blocks\n",
    "\n",
    "Let's see the overview"
   ]
  },
  {
   "cell_type": "code",
   "execution_count": 114,
   "id": "30986d54",
   "metadata": {},
   "outputs": [
    {
     "data": {
      "text/html": [
       "<div>\n",
       "<style scoped>\n",
       "    .dataframe tbody tr th:only-of-type {\n",
       "        vertical-align: middle;\n",
       "    }\n",
       "\n",
       "    .dataframe tbody tr th {\n",
       "        vertical-align: top;\n",
       "    }\n",
       "\n",
       "    .dataframe thead th {\n",
       "        text-align: right;\n",
       "    }\n",
       "</style>\n",
       "<table border=\"1\" class=\"dataframe\">\n",
       "  <thead>\n",
       "    <tr style=\"text-align: right;\">\n",
       "      <th></th>\n",
       "      <th>date</th>\n",
       "      <th>pm25</th>\n",
       "      <th>pm10</th>\n",
       "    </tr>\n",
       "  </thead>\n",
       "  <tbody>\n",
       "    <tr>\n",
       "      <th>0</th>\n",
       "      <td>2022/2/1</td>\n",
       "      <td>68</td>\n",
       "      <td>31</td>\n",
       "    </tr>\n",
       "    <tr>\n",
       "      <th>1</th>\n",
       "      <td>2022/2/2</td>\n",
       "      <td>58</td>\n",
       "      <td>35</td>\n",
       "    </tr>\n",
       "    <tr>\n",
       "      <th>2</th>\n",
       "      <td>2022/2/3</td>\n",
       "      <td>66</td>\n",
       "      <td>28</td>\n",
       "    </tr>\n",
       "    <tr>\n",
       "      <th>3</th>\n",
       "      <td>2022/1/3</td>\n",
       "      <td>82</td>\n",
       "      <td>51</td>\n",
       "    </tr>\n",
       "    <tr>\n",
       "      <th>4</th>\n",
       "      <td>2022/1/4</td>\n",
       "      <td>101</td>\n",
       "      <td>59</td>\n",
       "    </tr>\n",
       "  </tbody>\n",
       "</table>\n",
       "</div>"
      ],
      "text/plain": [
       "       date  pm25  pm10\n",
       "0  2022/2/1    68    31\n",
       "1  2022/2/2    58    35\n",
       "2  2022/2/3    66    28\n",
       "3  2022/1/3    82    51\n",
       "4  2022/1/4   101    59"
      ]
     },
     "execution_count": 114,
     "metadata": {},
     "output_type": "execute_result"
    }
   ],
   "source": [
    "df.head()"
   ]
  },
  {
   "cell_type": "code",
   "execution_count": 115,
   "id": "d2b144cd",
   "metadata": {
    "scrolled": false
   },
   "outputs": [
    {
     "data": {
      "text/html": [
       "<div>\n",
       "<style scoped>\n",
       "    .dataframe tbody tr th:only-of-type {\n",
       "        vertical-align: middle;\n",
       "    }\n",
       "\n",
       "    .dataframe tbody tr th {\n",
       "        vertical-align: top;\n",
       "    }\n",
       "\n",
       "    .dataframe thead th {\n",
       "        text-align: right;\n",
       "    }\n",
       "</style>\n",
       "<table border=\"1\" class=\"dataframe\">\n",
       "  <thead>\n",
       "    <tr style=\"text-align: right;\">\n",
       "      <th></th>\n",
       "      <th>date</th>\n",
       "      <th>pm25</th>\n",
       "      <th>pm10</th>\n",
       "    </tr>\n",
       "  </thead>\n",
       "  <tbody>\n",
       "    <tr>\n",
       "      <th>count</th>\n",
       "      <td>2951</td>\n",
       "      <td>2951</td>\n",
       "      <td>2951</td>\n",
       "    </tr>\n",
       "    <tr>\n",
       "      <th>unique</th>\n",
       "      <td>2951</td>\n",
       "      <td>155</td>\n",
       "      <td>92</td>\n",
       "    </tr>\n",
       "    <tr>\n",
       "      <th>top</th>\n",
       "      <td>2022/2/1</td>\n",
       "      <td></td>\n",
       "      <td>25</td>\n",
       "    </tr>\n",
       "    <tr>\n",
       "      <th>freq</th>\n",
       "      <td>1</td>\n",
       "      <td>944</td>\n",
       "      <td>120</td>\n",
       "    </tr>\n",
       "  </tbody>\n",
       "</table>\n",
       "</div>"
      ],
      "text/plain": [
       "            date  pm25  pm10\n",
       "count       2951  2951  2951\n",
       "unique      2951   155    92\n",
       "top     2022/2/1          25\n",
       "freq           1   944   120"
      ]
     },
     "execution_count": 115,
     "metadata": {},
     "output_type": "execute_result"
    }
   ],
   "source": [
    "df.describe(include='all')"
   ]
  },
  {
   "cell_type": "markdown",
   "id": "715ba2aa",
   "metadata": {},
   "source": [
    "### Data cleaning\n",
    "\n",
    "- Delete the row with missing data\n",
    "- Include only the data from year 2017-2021"
   ]
  },
  {
   "cell_type": "code",
   "execution_count": 116,
   "id": "d0ac29f4",
   "metadata": {},
   "outputs": [],
   "source": [
    "for x in df.index:\n",
    "    if df.loc[x, \" pm25\"] == \" \":\n",
    "        df.drop(x, inplace = True)\n",
    "for x in df.index:\n",
    "    if df.loc[x, \" pm10\"] == \" \":\n",
    "        df.drop(x, inplace = True)\n",
    "for x in df.index:        \n",
    "    YMD = df.loc[x, \"date\"].split(\"/\")  # use only data since 2017 - 2021\n",
    "    if int(YMD[0]) < 2017 or int(YMD[0]) > 2021: \n",
    "        df.drop(x, inplace = True)\n",
    "        \n",
    "        \n",
    "df[' pm25'] = df[' pm25'].astype(int)\n",
    "df[' pm10'] = df[' pm10'].astype(int)"
   ]
  },
  {
   "cell_type": "code",
   "execution_count": 117,
   "id": "5df21e80",
   "metadata": {},
   "outputs": [
    {
     "data": {
      "text/html": [
       "<div>\n",
       "<style scoped>\n",
       "    .dataframe tbody tr th:only-of-type {\n",
       "        vertical-align: middle;\n",
       "    }\n",
       "\n",
       "    .dataframe tbody tr th {\n",
       "        vertical-align: top;\n",
       "    }\n",
       "\n",
       "    .dataframe thead th {\n",
       "        text-align: right;\n",
       "    }\n",
       "</style>\n",
       "<table border=\"1\" class=\"dataframe\">\n",
       "  <thead>\n",
       "    <tr style=\"text-align: right;\">\n",
       "      <th></th>\n",
       "      <th>date</th>\n",
       "      <th>pm25</th>\n",
       "      <th>pm10</th>\n",
       "    </tr>\n",
       "  </thead>\n",
       "  <tbody>\n",
       "    <tr>\n",
       "      <th>count</th>\n",
       "      <td>1812</td>\n",
       "      <td>1812.000000</td>\n",
       "      <td>1812.000000</td>\n",
       "    </tr>\n",
       "    <tr>\n",
       "      <th>unique</th>\n",
       "      <td>1812</td>\n",
       "      <td>NaN</td>\n",
       "      <td>NaN</td>\n",
       "    </tr>\n",
       "    <tr>\n",
       "      <th>top</th>\n",
       "      <td>2021/10/1</td>\n",
       "      <td>NaN</td>\n",
       "      <td>NaN</td>\n",
       "    </tr>\n",
       "    <tr>\n",
       "      <th>freq</th>\n",
       "      <td>1</td>\n",
       "      <td>NaN</td>\n",
       "      <td>NaN</td>\n",
       "    </tr>\n",
       "    <tr>\n",
       "      <th>mean</th>\n",
       "      <td>NaN</td>\n",
       "      <td>82.665011</td>\n",
       "      <td>39.746689</td>\n",
       "    </tr>\n",
       "    <tr>\n",
       "      <th>std</th>\n",
       "      <td>NaN</td>\n",
       "      <td>31.912149</td>\n",
       "      <td>16.347191</td>\n",
       "    </tr>\n",
       "    <tr>\n",
       "      <th>min</th>\n",
       "      <td>NaN</td>\n",
       "      <td>18.000000</td>\n",
       "      <td>9.000000</td>\n",
       "    </tr>\n",
       "    <tr>\n",
       "      <th>25%</th>\n",
       "      <td>NaN</td>\n",
       "      <td>59.000000</td>\n",
       "      <td>27.000000</td>\n",
       "    </tr>\n",
       "    <tr>\n",
       "      <th>50%</th>\n",
       "      <td>NaN</td>\n",
       "      <td>74.500000</td>\n",
       "      <td>36.000000</td>\n",
       "    </tr>\n",
       "    <tr>\n",
       "      <th>75%</th>\n",
       "      <td>NaN</td>\n",
       "      <td>101.000000</td>\n",
       "      <td>50.000000</td>\n",
       "    </tr>\n",
       "    <tr>\n",
       "      <th>max</th>\n",
       "      <td>NaN</td>\n",
       "      <td>187.000000</td>\n",
       "      <td>96.000000</td>\n",
       "    </tr>\n",
       "  </tbody>\n",
       "</table>\n",
       "</div>"
      ],
      "text/plain": [
       "             date         pm25         pm10\n",
       "count        1812  1812.000000  1812.000000\n",
       "unique       1812          NaN          NaN\n",
       "top     2021/10/1          NaN          NaN\n",
       "freq            1          NaN          NaN\n",
       "mean          NaN    82.665011    39.746689\n",
       "std           NaN    31.912149    16.347191\n",
       "min           NaN    18.000000     9.000000\n",
       "25%           NaN    59.000000    27.000000\n",
       "50%           NaN    74.500000    36.000000\n",
       "75%           NaN   101.000000    50.000000\n",
       "max           NaN   187.000000    96.000000"
      ]
     },
     "execution_count": 117,
     "metadata": {},
     "output_type": "execute_result"
    }
   ],
   "source": [
    "df.describe(include='all')"
   ]
  },
  {
   "cell_type": "code",
   "execution_count": 118,
   "id": "83f416b1",
   "metadata": {},
   "outputs": [
    {
     "data": {
      "text/html": [
       "<div>\n",
       "<style scoped>\n",
       "    .dataframe tbody tr th:only-of-type {\n",
       "        vertical-align: middle;\n",
       "    }\n",
       "\n",
       "    .dataframe tbody tr th {\n",
       "        vertical-align: top;\n",
       "    }\n",
       "\n",
       "    .dataframe thead th {\n",
       "        text-align: right;\n",
       "    }\n",
       "</style>\n",
       "<table border=\"1\" class=\"dataframe\">\n",
       "  <thead>\n",
       "    <tr style=\"text-align: right;\">\n",
       "      <th></th>\n",
       "      <th>date</th>\n",
       "      <th>pm25</th>\n",
       "      <th>pm10</th>\n",
       "    </tr>\n",
       "  </thead>\n",
       "  <tbody>\n",
       "    <tr>\n",
       "      <th>33</th>\n",
       "      <td>2021/10/1</td>\n",
       "      <td>58</td>\n",
       "      <td>24</td>\n",
       "    </tr>\n",
       "    <tr>\n",
       "      <th>34</th>\n",
       "      <td>2021/10/2</td>\n",
       "      <td>57</td>\n",
       "      <td>36</td>\n",
       "    </tr>\n",
       "    <tr>\n",
       "      <th>35</th>\n",
       "      <td>2021/10/3</td>\n",
       "      <td>72</td>\n",
       "      <td>33</td>\n",
       "    </tr>\n",
       "    <tr>\n",
       "      <th>36</th>\n",
       "      <td>2021/10/4</td>\n",
       "      <td>73</td>\n",
       "      <td>43</td>\n",
       "    </tr>\n",
       "    <tr>\n",
       "      <th>37</th>\n",
       "      <td>2021/10/5</td>\n",
       "      <td>83</td>\n",
       "      <td>26</td>\n",
       "    </tr>\n",
       "  </tbody>\n",
       "</table>\n",
       "</div>"
      ],
      "text/plain": [
       "         date   pm25   pm10\n",
       "33  2021/10/1     58     24\n",
       "34  2021/10/2     57     36\n",
       "35  2021/10/3     72     33\n",
       "36  2021/10/4     73     43\n",
       "37  2021/10/5     83     26"
      ]
     },
     "execution_count": 118,
     "metadata": {},
     "output_type": "execute_result"
    }
   ],
   "source": [
    "df.head()"
   ]
  },
  {
   "cell_type": "code",
   "execution_count": 119,
   "id": "41d11bf1",
   "metadata": {},
   "outputs": [
    {
     "data": {
      "text/html": [
       "<div>\n",
       "<style scoped>\n",
       "    .dataframe tbody tr th:only-of-type {\n",
       "        vertical-align: middle;\n",
       "    }\n",
       "\n",
       "    .dataframe tbody tr th {\n",
       "        vertical-align: top;\n",
       "    }\n",
       "\n",
       "    .dataframe thead th {\n",
       "        text-align: right;\n",
       "    }\n",
       "</style>\n",
       "<table border=\"1\" class=\"dataframe\">\n",
       "  <thead>\n",
       "    <tr style=\"text-align: right;\">\n",
       "      <th></th>\n",
       "      <th>date</th>\n",
       "      <th>pm25</th>\n",
       "      <th>pm10</th>\n",
       "    </tr>\n",
       "  </thead>\n",
       "  <tbody>\n",
       "    <tr>\n",
       "      <th>1847</th>\n",
       "      <td>2017/3/27</td>\n",
       "      <td>91</td>\n",
       "      <td>43</td>\n",
       "    </tr>\n",
       "    <tr>\n",
       "      <th>1848</th>\n",
       "      <td>2017/3/28</td>\n",
       "      <td>106</td>\n",
       "      <td>40</td>\n",
       "    </tr>\n",
       "    <tr>\n",
       "      <th>1849</th>\n",
       "      <td>2017/3/29</td>\n",
       "      <td>100</td>\n",
       "      <td>37</td>\n",
       "    </tr>\n",
       "    <tr>\n",
       "      <th>1850</th>\n",
       "      <td>2017/3/30</td>\n",
       "      <td>88</td>\n",
       "      <td>19</td>\n",
       "    </tr>\n",
       "    <tr>\n",
       "      <th>1851</th>\n",
       "      <td>2017/3/31</td>\n",
       "      <td>67</td>\n",
       "      <td>29</td>\n",
       "    </tr>\n",
       "  </tbody>\n",
       "</table>\n",
       "</div>"
      ],
      "text/plain": [
       "           date   pm25   pm10\n",
       "1847  2017/3/27     91     43\n",
       "1848  2017/3/28    106     40\n",
       "1849  2017/3/29    100     37\n",
       "1850  2017/3/30     88     19\n",
       "1851  2017/3/31     67     29"
      ]
     },
     "execution_count": 119,
     "metadata": {},
     "output_type": "execute_result"
    }
   ],
   "source": [
    "df.tail()"
   ]
  },
  {
   "cell_type": "markdown",
   "id": "69b2fbe9",
   "metadata": {},
   "source": [
    "Now, we clean the blank value in pm2.5 and pm10 out and eliminate all the data before 2017 and after 2021 out. \n",
    "\n",
    "The usable information contains only 1812 rows.\n",
    "\n",
    "Therefore, it dropped 2951 - 1812 = 1139 rows."
   ]
  },
  {
   "cell_type": "markdown",
   "id": "988ab5fb",
   "metadata": {},
   "source": [
    "## Try 1 : weekday and weeknumber as inputs"
   ]
  },
  {
   "cell_type": "code",
   "execution_count": 24,
   "id": "35a22eaa",
   "metadata": {
    "scrolled": true
   },
   "outputs": [
    {
     "data": {
      "text/plain": [
       "4"
      ]
     },
     "execution_count": 24,
     "metadata": {},
     "output_type": "execute_result"
    }
   ],
   "source": [
    "def ToWeekday(date):\n",
    "    YMD = date.split(\"/\")\n",
    "    Dayinweek = datetime.datetime(int(YMD[0]), int(YMD[1]), int(YMD[2])).weekday()\n",
    "    return Dayinweek\n",
    "\n",
    "def ToWeeknum(date):\n",
    "    YMD = date.split(\"/\")\n",
    "    Weeknum = datetime.date(int(YMD[0]), int(YMD[1]), int(YMD[2])).isocalendar().week\n",
    "    return Weeknum\n",
    "\n",
    "ToWeekday(df.iloc[0,0])"
   ]
  },
  {
   "cell_type": "markdown",
   "id": "a70ca5af",
   "metadata": {},
   "source": [
    "Weekday = 0 = Monday, 6 = Sunday"
   ]
  },
  {
   "cell_type": "code",
   "execution_count": 120,
   "id": "0881f371",
   "metadata": {},
   "outputs": [
    {
     "data": {
      "text/html": [
       "<div>\n",
       "<style scoped>\n",
       "    .dataframe tbody tr th:only-of-type {\n",
       "        vertical-align: middle;\n",
       "    }\n",
       "\n",
       "    .dataframe tbody tr th {\n",
       "        vertical-align: top;\n",
       "    }\n",
       "\n",
       "    .dataframe thead th {\n",
       "        text-align: right;\n",
       "    }\n",
       "</style>\n",
       "<table border=\"1\" class=\"dataframe\">\n",
       "  <thead>\n",
       "    <tr style=\"text-align: right;\">\n",
       "      <th></th>\n",
       "      <th>date</th>\n",
       "      <th>pm25</th>\n",
       "      <th>pm10</th>\n",
       "      <th>weekday</th>\n",
       "      <th>weeknum</th>\n",
       "    </tr>\n",
       "  </thead>\n",
       "  <tbody>\n",
       "    <tr>\n",
       "      <th>33</th>\n",
       "      <td>2021/10/1</td>\n",
       "      <td>58</td>\n",
       "      <td>24</td>\n",
       "      <td>4</td>\n",
       "      <td>39</td>\n",
       "    </tr>\n",
       "    <tr>\n",
       "      <th>34</th>\n",
       "      <td>2021/10/2</td>\n",
       "      <td>57</td>\n",
       "      <td>36</td>\n",
       "      <td>5</td>\n",
       "      <td>39</td>\n",
       "    </tr>\n",
       "    <tr>\n",
       "      <th>35</th>\n",
       "      <td>2021/10/3</td>\n",
       "      <td>72</td>\n",
       "      <td>33</td>\n",
       "      <td>6</td>\n",
       "      <td>39</td>\n",
       "    </tr>\n",
       "    <tr>\n",
       "      <th>36</th>\n",
       "      <td>2021/10/4</td>\n",
       "      <td>73</td>\n",
       "      <td>43</td>\n",
       "      <td>0</td>\n",
       "      <td>40</td>\n",
       "    </tr>\n",
       "    <tr>\n",
       "      <th>37</th>\n",
       "      <td>2021/10/5</td>\n",
       "      <td>83</td>\n",
       "      <td>26</td>\n",
       "      <td>1</td>\n",
       "      <td>40</td>\n",
       "    </tr>\n",
       "    <tr>\n",
       "      <th>...</th>\n",
       "      <td>...</td>\n",
       "      <td>...</td>\n",
       "      <td>...</td>\n",
       "      <td>...</td>\n",
       "      <td>...</td>\n",
       "    </tr>\n",
       "    <tr>\n",
       "      <th>1847</th>\n",
       "      <td>2017/3/27</td>\n",
       "      <td>91</td>\n",
       "      <td>43</td>\n",
       "      <td>0</td>\n",
       "      <td>13</td>\n",
       "    </tr>\n",
       "    <tr>\n",
       "      <th>1848</th>\n",
       "      <td>2017/3/28</td>\n",
       "      <td>106</td>\n",
       "      <td>40</td>\n",
       "      <td>1</td>\n",
       "      <td>13</td>\n",
       "    </tr>\n",
       "    <tr>\n",
       "      <th>1849</th>\n",
       "      <td>2017/3/29</td>\n",
       "      <td>100</td>\n",
       "      <td>37</td>\n",
       "      <td>2</td>\n",
       "      <td>13</td>\n",
       "    </tr>\n",
       "    <tr>\n",
       "      <th>1850</th>\n",
       "      <td>2017/3/30</td>\n",
       "      <td>88</td>\n",
       "      <td>19</td>\n",
       "      <td>3</td>\n",
       "      <td>13</td>\n",
       "    </tr>\n",
       "    <tr>\n",
       "      <th>1851</th>\n",
       "      <td>2017/3/31</td>\n",
       "      <td>67</td>\n",
       "      <td>29</td>\n",
       "      <td>4</td>\n",
       "      <td>13</td>\n",
       "    </tr>\n",
       "  </tbody>\n",
       "</table>\n",
       "<p>1812 rows × 5 columns</p>\n",
       "</div>"
      ],
      "text/plain": [
       "           date   pm25   pm10  weekday  weeknum\n",
       "33    2021/10/1     58     24        4       39\n",
       "34    2021/10/2     57     36        5       39\n",
       "35    2021/10/3     72     33        6       39\n",
       "36    2021/10/4     73     43        0       40\n",
       "37    2021/10/5     83     26        1       40\n",
       "...         ...    ...    ...      ...      ...\n",
       "1847  2017/3/27     91     43        0       13\n",
       "1848  2017/3/28    106     40        1       13\n",
       "1849  2017/3/29    100     37        2       13\n",
       "1850  2017/3/30     88     19        3       13\n",
       "1851  2017/3/31     67     29        4       13\n",
       "\n",
       "[1812 rows x 5 columns]"
      ]
     },
     "execution_count": 120,
     "metadata": {},
     "output_type": "execute_result"
    }
   ],
   "source": [
    "df['weekday'] = df.apply(lambda row: ToWeekday(row.date), axis = 1)\n",
    "df['weeknum'] = df.apply(lambda row: ToWeeknum(row.date), axis = 1)\n",
    "df"
   ]
  },
  {
   "cell_type": "markdown",
   "id": "7c661b73",
   "metadata": {},
   "source": [
    "Add new columns of each row's weekday and weeknum"
   ]
  },
  {
   "cell_type": "markdown",
   "id": "93c82c9f",
   "metadata": {},
   "source": [
    "### Make default model"
   ]
  },
  {
   "cell_type": "code",
   "execution_count": 121,
   "id": "0517af24",
   "metadata": {},
   "outputs": [
    {
     "data": {
      "text/plain": [
       "1359"
      ]
     },
     "execution_count": 121,
     "metadata": {},
     "output_type": "execute_result"
    }
   ],
   "source": [
    "X = df.iloc[:, 3:5]\n",
    "Y = df.iloc[:, 1:3]\n",
    "\n",
    "Xtrain, Xtest, Ytrain, Ytest = train_test_split(X,Y,random_state = 1)\n",
    "len(Xtrain)"
   ]
  },
  {
   "cell_type": "code",
   "execution_count": 122,
   "id": "cb78cb83",
   "metadata": {},
   "outputs": [
    {
     "data": {
      "text/plain": [
       "453"
      ]
     },
     "execution_count": 122,
     "metadata": {},
     "output_type": "execute_result"
    }
   ],
   "source": [
    "len(Xtest) # 25%"
   ]
  },
  {
   "cell_type": "code",
   "execution_count": 123,
   "id": "6660c6cf",
   "metadata": {},
   "outputs": [
    {
     "data": {
      "text/plain": [
       "MLPRegressor(max_iter=2000)"
      ]
     },
     "execution_count": 123,
     "metadata": {},
     "output_type": "execute_result"
    }
   ],
   "source": [
    "mlp_rg = MLPRegressor(max_iter=2000)\n",
    "mlp_rg.fit(Xtrain, Ytrain)"
   ]
  },
  {
   "cell_type": "code",
   "execution_count": 124,
   "id": "50d5c4c1",
   "metadata": {
    "scrolled": true
   },
   "outputs": [
    {
     "name": "stdout",
     "output_type": "stream",
     "text": [
      "Test R^2 Score : 0.473\n",
      "Training R^2 Score : 0.504\n"
     ]
    }
   ],
   "source": [
    "Ypred = mlp_rg.predict(Xtest)\n",
    "\n",
    "print('Test R^2 Score : %.3f'%mlp_rg.score(Xtest, Ytest)) ## Score method also evaluates accuracy for classification models.\n",
    "print('Training R^2 Score : %.3f'%mlp_rg.score(Xtrain, Ytrain))"
   ]
  },
  {
   "cell_type": "markdown",
   "id": "3121774f",
   "metadata": {},
   "source": [
    "## Try 2 : day and month as inputs"
   ]
  },
  {
   "cell_type": "code",
   "execution_count": 125,
   "id": "c95fc42a",
   "metadata": {},
   "outputs": [
    {
     "data": {
      "text/html": [
       "<div>\n",
       "<style scoped>\n",
       "    .dataframe tbody tr th:only-of-type {\n",
       "        vertical-align: middle;\n",
       "    }\n",
       "\n",
       "    .dataframe tbody tr th {\n",
       "        vertical-align: top;\n",
       "    }\n",
       "\n",
       "    .dataframe thead th {\n",
       "        text-align: right;\n",
       "    }\n",
       "</style>\n",
       "<table border=\"1\" class=\"dataframe\">\n",
       "  <thead>\n",
       "    <tr style=\"text-align: right;\">\n",
       "      <th></th>\n",
       "      <th>date</th>\n",
       "      <th>pm25</th>\n",
       "      <th>pm10</th>\n",
       "      <th>weekday</th>\n",
       "      <th>weeknum</th>\n",
       "      <th>day</th>\n",
       "      <th>month</th>\n",
       "    </tr>\n",
       "  </thead>\n",
       "  <tbody>\n",
       "    <tr>\n",
       "      <th>33</th>\n",
       "      <td>2021/10/1</td>\n",
       "      <td>58</td>\n",
       "      <td>24</td>\n",
       "      <td>4</td>\n",
       "      <td>39</td>\n",
       "      <td>1</td>\n",
       "      <td>10</td>\n",
       "    </tr>\n",
       "    <tr>\n",
       "      <th>34</th>\n",
       "      <td>2021/10/2</td>\n",
       "      <td>57</td>\n",
       "      <td>36</td>\n",
       "      <td>5</td>\n",
       "      <td>39</td>\n",
       "      <td>2</td>\n",
       "      <td>10</td>\n",
       "    </tr>\n",
       "    <tr>\n",
       "      <th>35</th>\n",
       "      <td>2021/10/3</td>\n",
       "      <td>72</td>\n",
       "      <td>33</td>\n",
       "      <td>6</td>\n",
       "      <td>39</td>\n",
       "      <td>3</td>\n",
       "      <td>10</td>\n",
       "    </tr>\n",
       "    <tr>\n",
       "      <th>36</th>\n",
       "      <td>2021/10/4</td>\n",
       "      <td>73</td>\n",
       "      <td>43</td>\n",
       "      <td>0</td>\n",
       "      <td>40</td>\n",
       "      <td>4</td>\n",
       "      <td>10</td>\n",
       "    </tr>\n",
       "    <tr>\n",
       "      <th>37</th>\n",
       "      <td>2021/10/5</td>\n",
       "      <td>83</td>\n",
       "      <td>26</td>\n",
       "      <td>1</td>\n",
       "      <td>40</td>\n",
       "      <td>5</td>\n",
       "      <td>10</td>\n",
       "    </tr>\n",
       "    <tr>\n",
       "      <th>...</th>\n",
       "      <td>...</td>\n",
       "      <td>...</td>\n",
       "      <td>...</td>\n",
       "      <td>...</td>\n",
       "      <td>...</td>\n",
       "      <td>...</td>\n",
       "      <td>...</td>\n",
       "    </tr>\n",
       "    <tr>\n",
       "      <th>1847</th>\n",
       "      <td>2017/3/27</td>\n",
       "      <td>91</td>\n",
       "      <td>43</td>\n",
       "      <td>0</td>\n",
       "      <td>13</td>\n",
       "      <td>27</td>\n",
       "      <td>3</td>\n",
       "    </tr>\n",
       "    <tr>\n",
       "      <th>1848</th>\n",
       "      <td>2017/3/28</td>\n",
       "      <td>106</td>\n",
       "      <td>40</td>\n",
       "      <td>1</td>\n",
       "      <td>13</td>\n",
       "      <td>28</td>\n",
       "      <td>3</td>\n",
       "    </tr>\n",
       "    <tr>\n",
       "      <th>1849</th>\n",
       "      <td>2017/3/29</td>\n",
       "      <td>100</td>\n",
       "      <td>37</td>\n",
       "      <td>2</td>\n",
       "      <td>13</td>\n",
       "      <td>29</td>\n",
       "      <td>3</td>\n",
       "    </tr>\n",
       "    <tr>\n",
       "      <th>1850</th>\n",
       "      <td>2017/3/30</td>\n",
       "      <td>88</td>\n",
       "      <td>19</td>\n",
       "      <td>3</td>\n",
       "      <td>13</td>\n",
       "      <td>30</td>\n",
       "      <td>3</td>\n",
       "    </tr>\n",
       "    <tr>\n",
       "      <th>1851</th>\n",
       "      <td>2017/3/31</td>\n",
       "      <td>67</td>\n",
       "      <td>29</td>\n",
       "      <td>4</td>\n",
       "      <td>13</td>\n",
       "      <td>31</td>\n",
       "      <td>3</td>\n",
       "    </tr>\n",
       "  </tbody>\n",
       "</table>\n",
       "<p>1812 rows × 7 columns</p>\n",
       "</div>"
      ],
      "text/plain": [
       "           date   pm25   pm10  weekday  weeknum  day  month\n",
       "33    2021/10/1     58     24        4       39    1     10\n",
       "34    2021/10/2     57     36        5       39    2     10\n",
       "35    2021/10/3     72     33        6       39    3     10\n",
       "36    2021/10/4     73     43        0       40    4     10\n",
       "37    2021/10/5     83     26        1       40    5     10\n",
       "...         ...    ...    ...      ...      ...  ...    ...\n",
       "1847  2017/3/27     91     43        0       13   27      3\n",
       "1848  2017/3/28    106     40        1       13   28      3\n",
       "1849  2017/3/29    100     37        2       13   29      3\n",
       "1850  2017/3/30     88     19        3       13   30      3\n",
       "1851  2017/3/31     67     29        4       13   31      3\n",
       "\n",
       "[1812 rows x 7 columns]"
      ]
     },
     "execution_count": 125,
     "metadata": {},
     "output_type": "execute_result"
    }
   ],
   "source": [
    "def ToDay(date):\n",
    "    YMD = date.split(\"/\")\n",
    "    return int(YMD[2])\n",
    "\n",
    "def ToMonth(date):\n",
    "    YMD = date.split(\"/\")\n",
    "    return int(YMD[1])\n",
    "    \n",
    "df['day'] = df.apply(lambda row: ToDay(row.date), axis = 1)\n",
    "df['month'] = df.apply(lambda row: ToMonth(row.date), axis = 1)\n",
    "df"
   ]
  },
  {
   "cell_type": "code",
   "execution_count": 126,
   "id": "7341a4ec",
   "metadata": {},
   "outputs": [],
   "source": [
    "X2 = df.iloc[:, 5:7]\n",
    "Y2 = df.iloc[:, 1:3]\n",
    "\n",
    "Xtrain2, Xtest2, Ytrain2, Ytest2 = train_test_split(X2,Y2,random_state = 1)"
   ]
  },
  {
   "cell_type": "code",
   "execution_count": 128,
   "id": "8a5d7807",
   "metadata": {},
   "outputs": [
    {
     "data": {
      "text/plain": [
       "MLPRegressor(max_iter=2000)"
      ]
     },
     "execution_count": 128,
     "metadata": {},
     "output_type": "execute_result"
    }
   ],
   "source": [
    "mlp_rg2 = MLPRegressor(max_iter=2000)\n",
    "mlp_rg2.fit(Xtrain2, Ytrain2)"
   ]
  },
  {
   "cell_type": "code",
   "execution_count": 129,
   "id": "eae60e76",
   "metadata": {},
   "outputs": [
    {
     "name": "stdout",
     "output_type": "stream",
     "text": [
      "Test R^2 Score : 0.450\n",
      "Training R^2 Score : 0.482\n"
     ]
    }
   ],
   "source": [
    "Ypred2 = mlp_rg2.predict(Xtest2)\n",
    "\n",
    "print('Test R^2 Score : %.3f'%mlp_rg2.score(Xtest2, Ytest2)) ## Score method also evaluates accuracy for classification models.\n",
    "print('Training R^2 Score : %.3f'%mlp_rg2.score(Xtrain2, Ytrain2))"
   ]
  },
  {
   "cell_type": "markdown",
   "id": "45aab7ca",
   "metadata": {},
   "source": [
    "### Using weekday and week number is slightly better than using day and month"
   ]
  },
  {
   "cell_type": "markdown",
   "id": "ae1a21bb",
   "metadata": {},
   "source": [
    "# --- Optimization by changing hyperparameter\n",
    "## Focus on try 1 -- which we got better result\n",
    "### - epoch & solver\n",
    "- The solvers tried **didn't include lbfgs because** when I tried, even max_iter = 5,000 didn't enough to be converaged in the optimization (warned by the program)"
   ]
  },
  {
   "cell_type": "code",
   "execution_count": 130,
   "id": "37ff4993",
   "metadata": {},
   "outputs": [
    {
     "data": {
      "text/plain": [
       "GridSearchCV(cv=5, estimator=MLPRegressor(max_iter=2000), n_jobs=-1,\n",
       "             param_grid={'max_iter': array([2000, 2200, 2400, 2600, 2800, 3000, 3200, 3400, 3600, 3800, 4000]),\n",
       "                         'solver': ['adam', 'sgd']})"
      ]
     },
     "execution_count": 130,
     "metadata": {},
     "output_type": "execute_result"
    }
   ],
   "source": [
    "parameter_space = {\n",
    "    'max_iter': np.arange(2000,4001,200),\n",
    "    'solver': ['adam', 'sgd'], # lbfgs is too expensive and problematic (even 5,000 epoch isn't enough)\n",
    "}\n",
    "\n",
    "clf = GridSearchCV(mlp_rg, parameter_space, n_jobs=-1, cv=5)\n",
    "clf.fit(Xtrain, Ytrain)"
   ]
  },
  {
   "cell_type": "code",
   "execution_count": 131,
   "id": "8e36d989",
   "metadata": {},
   "outputs": [
    {
     "name": "stdout",
     "output_type": "stream",
     "text": [
      "Best epoch and best solver :  {'max_iter': 2200, 'solver': 'adam'}\n"
     ]
    }
   ],
   "source": [
    "print(\"Best epoch and best solver : \", clf.best_params_)"
   ]
  },
  {
   "cell_type": "markdown",
   "id": "19449939",
   "metadata": {},
   "source": [
    "So, best epoch to use is 2,200 and we shouldn't use epoch below that because program warns that it's not enough for the optimization.\n",
    "\n",
    "For the solver for weight optimization, adam is best."
   ]
  },
  {
   "cell_type": "code",
   "execution_count": 132,
   "id": "f139c099",
   "metadata": {},
   "outputs": [
    {
     "name": "stdout",
     "output_type": "stream",
     "text": [
      "Test R^2 Score : 0.484\n",
      "Training R^2 Score : 0.505\n"
     ]
    }
   ],
   "source": [
    "mlp_rg = MLPRegressor(max_iter=2200)\n",
    "mlp_rg.fit(Xtrain, Ytrain)\n",
    "Ypred = mlp_rg.predict(Xtest)\n",
    "\n",
    "print('Test R^2 Score : %.3f'%mlp_rg.score(Xtest, Ytest)) ## Score method also evaluates accuracy for classification models.\n",
    "print('Training R^2 Score : %.3f'%mlp_rg.score(Xtrain, Ytrain))"
   ]
  },
  {
   "cell_type": "markdown",
   "id": "296fd4fd",
   "metadata": {},
   "source": [
    "From changing 2,000 epochs to 2,200 epochs, R^2 increases from 0.473 to 0.484"
   ]
  },
  {
   "cell_type": "markdown",
   "id": "92c6f32c",
   "metadata": {},
   "source": [
    "### - Activation Function & learning rate"
   ]
  },
  {
   "cell_type": "code",
   "execution_count": 133,
   "id": "6ddefd6d",
   "metadata": {
    "scrolled": true
   },
   "outputs": [
    {
     "data": {
      "text/plain": [
       "GridSearchCV(cv=5, estimator=MLPRegressor(max_iter=2200), n_jobs=-1,\n",
       "             param_grid={'activation': ['relu', 'tanh', 'logistic', 'identity'],\n",
       "                         'learning_rate': ['constant', 'invscaling',\n",
       "                                           'adaptive']})"
      ]
     },
     "execution_count": 133,
     "metadata": {},
     "output_type": "execute_result"
    }
   ],
   "source": [
    "parameter_space = {\n",
    "    'activation': ['relu', 'tanh', 'logistic', 'identity'],\n",
    "    'learning_rate' : ['constant', 'invscaling', 'adaptive']\n",
    "}\n",
    "\n",
    "clf = GridSearchCV(mlp_rg, parameter_space, n_jobs=-1, cv=5)\n",
    "clf.fit(Xtrain, Ytrain)"
   ]
  },
  {
   "cell_type": "code",
   "execution_count": 134,
   "id": "b66c902c",
   "metadata": {},
   "outputs": [
    {
     "name": "stdout",
     "output_type": "stream",
     "text": [
      "{'activation': 'relu', 'learning_rate': 'constant'}\n"
     ]
    }
   ],
   "source": [
    "print(clf.best_params_)"
   ]
  },
  {
   "cell_type": "markdown",
   "id": "65dbefbb",
   "metadata": {},
   "source": [
    "So, the hidden layer activation function and learning rate are optimized at default"
   ]
  },
  {
   "cell_type": "markdown",
   "id": "05e42450",
   "metadata": {},
   "source": [
    "### Therefore, epoch = 2,200 | solver, activation, and learning rate are optimized at default\n",
    "\n",
    "## Try 2\n",
    "\n",
    "### - epoch and solver"
   ]
  },
  {
   "cell_type": "code",
   "execution_count": 147,
   "id": "9f9e6bd9",
   "metadata": {},
   "outputs": [
    {
     "data": {
      "text/plain": [
       "GridSearchCV(cv=5, estimator=MLPRegressor(max_iter=2600), n_jobs=-1,\n",
       "             param_grid={'max_iter': array([2000, 2200, 2400, 2600, 2800, 3000, 3200, 3400, 3600, 3800, 4000]),\n",
       "                         'solver': ['adam', 'sgd']})"
      ]
     },
     "execution_count": 147,
     "metadata": {},
     "output_type": "execute_result"
    }
   ],
   "source": [
    "parameter_space = {\n",
    "    'max_iter': np.arange(2000,4001,200),\n",
    "    'solver': ['adam', 'sgd'], # lbfgs is too expensive and problematic (even 5,000 epoch isn't enough)\n",
    "}\n",
    "\n",
    "clf = GridSearchCV(mlp_rg2, parameter_space, n_jobs=-1, cv=5)\n",
    "clf.fit(Xtrain2, Ytrain2)"
   ]
  },
  {
   "cell_type": "code",
   "execution_count": 148,
   "id": "21d6959c",
   "metadata": {},
   "outputs": [
    {
     "name": "stdout",
     "output_type": "stream",
     "text": [
      "{'max_iter': 3800, 'solver': 'adam'}\n"
     ]
    }
   ],
   "source": [
    "print(clf.best_params_)"
   ]
  },
  {
   "cell_type": "code",
   "execution_count": 149,
   "id": "31964125",
   "metadata": {},
   "outputs": [
    {
     "name": "stdout",
     "output_type": "stream",
     "text": [
      "Test R^2 Score : 0.473\n",
      "Training R^2 Score : 0.504\n"
     ]
    }
   ],
   "source": [
    "mlp_rg2 = MLPRegressor(max_iter=3800)\n",
    "mlp_rg2.fit(Xtrain2, Ytrain2)\n",
    "Ypred2 = mlp_rg2.predict(Xtest2)\n",
    "\n",
    "print('Test R^2 Score : %.3f'%mlp_rg2.score(Xtest2, Ytest2)) ## Score method also evaluates accuracy for classification models.\n",
    "print('Training R^2 Score : %.3f'%mlp_rg2.score(Xtrain2, Ytrain2))"
   ]
  },
  {
   "cell_type": "markdown",
   "id": "d3afc485",
   "metadata": {},
   "source": [
    "So, best epoch for try 2 is 2,600\n",
    "\n",
    "It improves R^2 from 0.450 to 0.473"
   ]
  },
  {
   "cell_type": "markdown",
   "id": "7d87823f",
   "metadata": {},
   "source": [
    "### - Activation function"
   ]
  },
  {
   "cell_type": "code",
   "execution_count": 153,
   "id": "663e20ed",
   "metadata": {},
   "outputs": [
    {
     "name": "stderr",
     "output_type": "stream",
     "text": [
      "/Users/stevejen/opt/anaconda3/lib/python3.9/site-packages/sklearn/neural_network/_multilayer_perceptron.py:614: ConvergenceWarning: Stochastic Optimizer: Maximum iterations (3800) reached and the optimization hasn't converged yet.\n",
      "  warnings.warn(\n"
     ]
    },
    {
     "data": {
      "text/plain": [
       "GridSearchCV(cv=5, estimator=MLPRegressor(max_iter=3800), n_jobs=-1,\n",
       "             param_grid={'activation': ['relu', 'tanh']})"
      ]
     },
     "execution_count": 153,
     "metadata": {},
     "output_type": "execute_result"
    }
   ],
   "source": [
    "parameter_space = {\n",
    "    'activation': ['relu', 'tanh'] # because trying 4 functions at a time and the optimization hasn't converged\n",
    "}\n",
    "\n",
    "clf = GridSearchCV(mlp_rg2, parameter_space, n_jobs=-1, cv=5)\n",
    "clf.fit(Xtrain2, Ytrain2)"
   ]
  },
  {
   "cell_type": "code",
   "execution_count": 154,
   "id": "6b965a99",
   "metadata": {},
   "outputs": [
    {
     "name": "stdout",
     "output_type": "stream",
     "text": [
      "{'activation': 'relu'}\n"
     ]
    }
   ],
   "source": [
    "print(clf.best_params_)"
   ]
  },
  {
   "cell_type": "code",
   "execution_count": 155,
   "id": "4da80b97",
   "metadata": {},
   "outputs": [
    {
     "name": "stderr",
     "output_type": "stream",
     "text": [
      "/Users/stevejen/opt/anaconda3/lib/python3.9/site-packages/sklearn/neural_network/_multilayer_perceptron.py:614: ConvergenceWarning: Stochastic Optimizer: Maximum iterations (3800) reached and the optimization hasn't converged yet.\n",
      "  warnings.warn(\n",
      "/Users/stevejen/opt/anaconda3/lib/python3.9/site-packages/sklearn/neural_network/_multilayer_perceptron.py:614: ConvergenceWarning: Stochastic Optimizer: Maximum iterations (3800) reached and the optimization hasn't converged yet.\n",
      "  warnings.warn(\n"
     ]
    },
    {
     "data": {
      "text/plain": [
       "GridSearchCV(cv=5, estimator=MLPRegressor(max_iter=3800), n_jobs=-1,\n",
       "             param_grid={'activation': ['relu', 'logistic', 'identity']})"
      ]
     },
     "execution_count": 155,
     "metadata": {},
     "output_type": "execute_result"
    }
   ],
   "source": [
    "parameter_space = {\n",
    "    'activation': ['relu', 'logistic', 'identity']\n",
    "}\n",
    "\n",
    "clf = GridSearchCV(mlp_rg2, parameter_space, n_jobs=-1, cv=5)\n",
    "clf.fit(Xtrain2, Ytrain2)"
   ]
  },
  {
   "cell_type": "code",
   "execution_count": 156,
   "id": "cc96868d",
   "metadata": {},
   "outputs": [
    {
     "name": "stdout",
     "output_type": "stream",
     "text": [
      "{'activation': 'relu'}\n"
     ]
    }
   ],
   "source": [
    "print(clf.best_params_)"
   ]
  },
  {
   "cell_type": "markdown",
   "id": "1821e748",
   "metadata": {},
   "source": [
    "The best activation function for model 2 is still relu"
   ]
  },
  {
   "cell_type": "markdown",
   "id": "a83bbde5",
   "metadata": {},
   "source": [
    "### - Learning rate"
   ]
  },
  {
   "cell_type": "code",
   "execution_count": 157,
   "id": "8b4e402b",
   "metadata": {},
   "outputs": [
    {
     "data": {
      "text/plain": [
       "GridSearchCV(cv=5, estimator=MLPRegressor(max_iter=3800), n_jobs=-1,\n",
       "             param_grid={'learning_rate': ['constant', 'invscaling',\n",
       "                                           'adaptive']})"
      ]
     },
     "execution_count": 157,
     "metadata": {},
     "output_type": "execute_result"
    }
   ],
   "source": [
    "parameter_space = {\n",
    "    'learning_rate' : ['constant', 'invscaling', 'adaptive']\n",
    "}\n",
    "\n",
    "clf = GridSearchCV(mlp_rg2, parameter_space, n_jobs=-1, cv=5)\n",
    "clf.fit(Xtrain2, Ytrain2)"
   ]
  },
  {
   "cell_type": "code",
   "execution_count": 158,
   "id": "56101e42",
   "metadata": {},
   "outputs": [
    {
     "name": "stdout",
     "output_type": "stream",
     "text": [
      "{'learning_rate': 'invscaling'}\n"
     ]
    }
   ],
   "source": [
    "print(clf.best_params_)"
   ]
  },
  {
   "cell_type": "code",
   "execution_count": 159,
   "id": "25cf4cdb",
   "metadata": {},
   "outputs": [
    {
     "name": "stdout",
     "output_type": "stream",
     "text": [
      "Test R^2 Score : 0.475\n",
      "Training R^2 Score : 0.504\n"
     ]
    }
   ],
   "source": [
    "mlp_rg2 = MLPRegressor(max_iter=3800, learning_rate='invscaling')\n",
    "mlp_rg2.fit(Xtrain2, Ytrain2)\n",
    "Ypred2 = mlp_rg2.predict(Xtest2)\n",
    "\n",
    "print('Test R^2 Score : %.3f'%mlp_rg2.score(Xtest2, Ytest2)) ## Score method also evaluates accuracy for classification models.\n",
    "print('Training R^2 Score : %.3f'%mlp_rg2.score(Xtrain2, Ytrain2))"
   ]
  },
  {
   "cell_type": "markdown",
   "id": "53da0434",
   "metadata": {},
   "source": [
    "Changing learning rate from constant to invscaling, R^2 improved from 0.473 to 0.475, while training R^2 remains the same. It seems changing learning rate doesn't improve that much, but maybe ok to consider."
   ]
  },
  {
   "cell_type": "markdown",
   "id": "9154bd5e",
   "metadata": {},
   "source": [
    "### Therefore, epoch = 3,800 | learning rate = invscaling | solver and activation are optimized at default"
   ]
  },
  {
   "cell_type": "markdown",
   "id": "a7de00dd",
   "metadata": {},
   "source": [
    "### Conclusion after hyperparameter tuning\n",
    "- Model having weekday and week number as inputs perform better than model having day and month number as inputs\n",
    "\n",
    "- The first model performs best with epoch = 2,200\n",
    "\n",
    "- The second model performs best with epoch = 3,800 and invscaling learning rate"
   ]
  },
  {
   "cell_type": "markdown",
   "id": "fba83bd4",
   "metadata": {},
   "source": [
    "# --- Optimization by changing train-validation-test sets"
   ]
  },
  {
   "cell_type": "markdown",
   "id": "d2d718cc",
   "metadata": {},
   "source": [
    "- Try 2 more random_state for 0.75 : 0.25 to see what is actuallly better model\n",
    "- Try 0.85 : 0.15\n",
    "- Average the performance of each try"
   ]
  },
  {
   "cell_type": "markdown",
   "id": "23cd4adf",
   "metadata": {},
   "source": [
    "## 0.75 : 0.25 split\n",
    "### model 1 - weekday and week number"
   ]
  },
  {
   "cell_type": "code",
   "execution_count": 161,
   "id": "107315f5",
   "metadata": {},
   "outputs": [
    {
     "name": "stdout",
     "output_type": "stream",
     "text": [
      "size of training set : 1359\n",
      "size of training set : 453\n",
      "Test R^2 Score : 0.450\n",
      "Training R^2 Score : 0.483\n"
     ]
    }
   ],
   "source": [
    "X = df.iloc[:, 3:5]\n",
    "Y = df.iloc[:, 1:3]\n",
    "\n",
    "Xtrain, Xtest, Ytrain, Ytest = train_test_split(X,Y,random_state = 1)\n",
    "print(\"size of training set :\", len(Xtrain))\n",
    "print(\"size of training set :\", len(Xtest))\n",
    "\n",
    "mlp_rg = MLPRegressor(max_iter=2200)\n",
    "mlp_rg.fit(Xtrain, Ytrain)\n",
    "\n",
    "Ypred = mlp_rg.predict(Xtest)\n",
    "\n",
    "print('Test R^2 Score : %.3f'%mlp_rg.score(Xtest, Ytest)) ## Score method also evaluates accuracy for classification models.\n",
    "print('Training R^2 Score : %.3f'%mlp_rg.score(Xtrain, Ytrain))"
   ]
  },
  {
   "cell_type": "code",
   "execution_count": 162,
   "id": "3682be07",
   "metadata": {},
   "outputs": [
    {
     "name": "stdout",
     "output_type": "stream",
     "text": [
      "Test R^2 Score : 0.499\n",
      "Training R^2 Score : 0.473\n"
     ]
    }
   ],
   "source": [
    "Xtrain, Xtest, Ytrain, Ytest = train_test_split(X,Y,random_state = 2) # change random_state to change dataset\n",
    "\n",
    "mlp_rg = MLPRegressor(max_iter=2200)\n",
    "mlp_rg.fit(Xtrain, Ytrain)\n",
    "\n",
    "Ypred = mlp_rg.predict(Xtest)\n",
    "\n",
    "print('Test R^2 Score : %.3f'%mlp_rg.score(Xtest, Ytest))\n",
    "print('Training R^2 Score : %.3f'%mlp_rg.score(Xtrain, Ytrain))"
   ]
  },
  {
   "cell_type": "code",
   "execution_count": 163,
   "id": "d73509ae",
   "metadata": {},
   "outputs": [
    {
     "name": "stdout",
     "output_type": "stream",
     "text": [
      "Test R^2 Score : 0.530\n",
      "Training R^2 Score : 0.499\n"
     ]
    }
   ],
   "source": [
    "Xtrain, Xtest, Ytrain, Ytest = train_test_split(X,Y,random_state = 3) # change random_state to change dataset\n",
    "\n",
    "mlp_rg = MLPRegressor(max_iter=2200)\n",
    "mlp_rg.fit(Xtrain, Ytrain)\n",
    "\n",
    "Ypred = mlp_rg.predict(Xtest)\n",
    "\n",
    "print('Test R^2 Score : %.3f'%mlp_rg.score(Xtest, Ytest))\n",
    "print('Training R^2 Score : %.3f'%mlp_rg.score(Xtrain, Ytrain))"
   ]
  },
  {
   "cell_type": "markdown",
   "id": "c9db1ea6",
   "metadata": {},
   "source": [
    "- The split with random_state = 3 has the best performance for both testing set and training set\n",
    "- The average of **test** R^2 score = 0.493\n",
    "- The average of **training** R^2 score = 0.485"
   ]
  },
  {
   "cell_type": "markdown",
   "id": "c562cde3",
   "metadata": {},
   "source": [
    "### model 2 - day and month"
   ]
  },
  {
   "cell_type": "code",
   "execution_count": 164,
   "id": "e1a0d170",
   "metadata": {},
   "outputs": [
    {
     "name": "stdout",
     "output_type": "stream",
     "text": [
      "size of training set : 1359\n",
      "size of training set : 453\n",
      "Test R^2 Score : 0.464\n",
      "Training R^2 Score : 0.497\n"
     ]
    }
   ],
   "source": [
    "X2 = df.iloc[:, 5:7]\n",
    "Y2 = df.iloc[:, 1:3]\n",
    "\n",
    "Xtrain2, Xtest2, Ytrain2, Ytest2 = train_test_split(X2,Y2,random_state = 1)\n",
    "print(\"size of training set :\", len(Xtrain2))\n",
    "print(\"size of training set :\", len(Xtest2))\n",
    "\n",
    "mlp_rg2 = MLPRegressor(max_iter=3800, learning_rate='invscaling')\n",
    "mlp_rg2.fit(Xtrain2, Ytrain2)\n",
    "\n",
    "Ypred2 = mlp_rg2.predict(Xtest2)\n",
    "\n",
    "print('Test R^2 Score : %.3f'%mlp_rg2.score(Xtest2, Ytest2)) ## Score method also evaluates accuracy for classification models.\n",
    "print('Training R^2 Score : %.3f'%mlp_rg2.score(Xtrain2, Ytrain2))"
   ]
  },
  {
   "cell_type": "code",
   "execution_count": 165,
   "id": "c93292af",
   "metadata": {},
   "outputs": [
    {
     "name": "stdout",
     "output_type": "stream",
     "text": [
      "Test R^2 Score : 0.502\n",
      "Training R^2 Score : 0.475\n"
     ]
    }
   ],
   "source": [
    "Xtrain2, Xtest2, Ytrain2, Ytest2 = train_test_split(X2,Y2,random_state = 2) # change random_state to change dataset\n",
    "\n",
    "mlp_rg2 = MLPRegressor(max_iter=3800, learning_rate='invscaling')\n",
    "mlp_rg2.fit(Xtrain2, Ytrain2)\n",
    "\n",
    "Ypred2 = mlp_rg2.predict(Xtest2)\n",
    "\n",
    "print('Test R^2 Score : %.3f'%mlp_rg2.score(Xtest2, Ytest2)) \n",
    "print('Training R^2 Score : %.3f'%mlp_rg2.score(Xtrain2, Ytrain2))"
   ]
  },
  {
   "cell_type": "code",
   "execution_count": 166,
   "id": "636f14a0",
   "metadata": {},
   "outputs": [
    {
     "name": "stdout",
     "output_type": "stream",
     "text": [
      "Test R^2 Score : 0.506\n",
      "Training R^2 Score : 0.495\n"
     ]
    }
   ],
   "source": [
    "Xtrain2, Xtest2, Ytrain2, Ytest2 = train_test_split(X2,Y2,random_state = 3) # change random_state to change dataset\n",
    "\n",
    "mlp_rg2 = MLPRegressor(max_iter=3800, learning_rate='invscaling')\n",
    "mlp_rg2.fit(Xtrain2, Ytrain2)\n",
    "\n",
    "Ypred2 = mlp_rg2.predict(Xtest2)\n",
    "\n",
    "print('Test R^2 Score : %.3f'%mlp_rg2.score(Xtest2, Ytest2)) \n",
    "print('Training R^2 Score : %.3f'%mlp_rg2.score(Xtrain2, Ytrain2))"
   ]
  },
  {
   "cell_type": "markdown",
   "id": "ba7129f1",
   "metadata": {},
   "source": [
    "- The split with random_state = 3 has the best performance for both testing set and training set as well as for both models\n",
    "- The average of **test** R^2 score = 0.491\n",
    "- The average of **training** R^2 score = 0.489"
   ]
  },
  {
   "cell_type": "markdown",
   "id": "5e3d1a2f",
   "metadata": {},
   "source": [
    "**Conclusion**\n",
    "\n",
    "- Both models have slightly different performance level which model 1 that uses weekday and week number as inputs is better"
   ]
  },
  {
   "cell_type": "markdown",
   "id": "06660ecd",
   "metadata": {},
   "source": [
    "## 0.85 : 0.15 split -- model 1\n",
    "### Optimize the epoch size"
   ]
  },
  {
   "cell_type": "code",
   "execution_count": 167,
   "id": "4db9575c",
   "metadata": {},
   "outputs": [
    {
     "name": "stdout",
     "output_type": "stream",
     "text": [
      "size of training set : 1540\n",
      "size of training set : 272\n"
     ]
    },
    {
     "data": {
      "text/plain": [
       "GridSearchCV(cv=5, estimator=MLPRegressor(max_iter=2200), n_jobs=-1,\n",
       "             param_grid={'max_iter': array([2000, 2200, 2400, 2600, 2800, 3000, 3200, 3400, 3600, 3800, 4000])})"
      ]
     },
     "execution_count": 167,
     "metadata": {},
     "output_type": "execute_result"
    }
   ],
   "source": [
    "X = df.iloc[:, 3:5]\n",
    "Y = df.iloc[:, 1:3]\n",
    "\n",
    "Xtrain, Xtest, Ytrain, Ytest = train_test_split(X,Y,random_state = 1, test_size=0.15) # change test set size\n",
    "print(\"size of training set :\", len(Xtrain))\n",
    "print(\"size of training set :\", len(Xtest))\n",
    "\n",
    "parameter_space = {\n",
    "    'max_iter': np.arange(2000,4001,200)\n",
    "}\n",
    "\n",
    "clf = GridSearchCV(mlp_rg, parameter_space, n_jobs=-1, cv=5)\n",
    "clf.fit(Xtrain, Ytrain)"
   ]
  },
  {
   "cell_type": "code",
   "execution_count": 168,
   "id": "dc2d2061",
   "metadata": {},
   "outputs": [
    {
     "name": "stdout",
     "output_type": "stream",
     "text": [
      "{'max_iter': 2400}\n"
     ]
    }
   ],
   "source": [
    "print(clf.best_params_)"
   ]
  },
  {
   "cell_type": "markdown",
   "id": "11f6df36",
   "metadata": {},
   "source": [
    "So, we will go for epoch = 2400 for this proportion of split"
   ]
  },
  {
   "cell_type": "code",
   "execution_count": 169,
   "id": "8f528bbe",
   "metadata": {},
   "outputs": [
    {
     "name": "stdout",
     "output_type": "stream",
     "text": [
      "Test R^2 Score : 0.428\n",
      "Training R^2 Score : 0.489\n"
     ]
    }
   ],
   "source": [
    "mlp_rg = MLPRegressor(max_iter=2400)\n",
    "mlp_rg.fit(Xtrain, Ytrain)\n",
    "\n",
    "Ypred = mlp_rg.predict(Xtest)\n",
    "\n",
    "print('Test R^2 Score : %.3f'%mlp_rg.score(Xtest, Ytest)) ## Score method also evaluates accuracy for classification models.\n",
    "print('Training R^2 Score : %.3f'%mlp_rg.score(Xtrain, Ytrain))"
   ]
  },
  {
   "cell_type": "code",
   "execution_count": 170,
   "id": "391bf836",
   "metadata": {},
   "outputs": [
    {
     "name": "stdout",
     "output_type": "stream",
     "text": [
      "Test R^2 Score : 0.516\n",
      "Training R^2 Score : 0.486\n"
     ]
    }
   ],
   "source": [
    "Xtrain, Xtest, Ytrain, Ytest = train_test_split(X,Y,random_state = 2) # change random_state to change dataset\n",
    "\n",
    "mlp_rg = MLPRegressor(max_iter=2400)\n",
    "mlp_rg.fit(Xtrain, Ytrain)\n",
    "\n",
    "Ypred = mlp_rg.predict(Xtest)\n",
    "\n",
    "print('Test R^2 Score : %.3f'%mlp_rg.score(Xtest, Ytest))\n",
    "print('Training R^2 Score : %.3f'%mlp_rg.score(Xtrain, Ytrain))"
   ]
  },
  {
   "cell_type": "code",
   "execution_count": 171,
   "id": "fa8578a9",
   "metadata": {},
   "outputs": [
    {
     "name": "stdout",
     "output_type": "stream",
     "text": [
      "Test R^2 Score : 0.509\n",
      "Training R^2 Score : 0.479\n"
     ]
    }
   ],
   "source": [
    "Xtrain, Xtest, Ytrain, Ytest = train_test_split(X,Y,random_state = 3) # change random_state to change dataset\n",
    "\n",
    "mlp_rg = MLPRegressor(max_iter=2400)\n",
    "mlp_rg.fit(Xtrain, Ytrain)\n",
    "\n",
    "Ypred = mlp_rg.predict(Xtest)\n",
    "\n",
    "print('Test R^2 Score : %.3f'%mlp_rg.score(Xtest, Ytest))\n",
    "print('Training R^2 Score : %.3f'%mlp_rg.score(Xtrain, Ytrain))"
   ]
  },
  {
   "cell_type": "markdown",
   "id": "5472b977",
   "metadata": {},
   "source": [
    "**Conclusion**\n",
    "\n",
    "- The split with random_state = 2,3 has the best performance for both testing set and training set as well as for both models\n",
    "- The split with random_state = 1 has big drop of test R^2 score compared to other random_state\n",
    "- The average of **test** R^2 score = 0.484\n",
    "- The average of **training** R^2 score = 0.485"
   ]
  },
  {
   "cell_type": "markdown",
   "id": "56a1fd1c",
   "metadata": {},
   "source": [
    "# Conclusion\n",
    "- Model that uses weekday and week number to predict does the better job, more with train-test split of 0.75 : 0.25 and more with epoch = 2,200 with average R^2 = 0.493"
   ]
  },
  {
   "cell_type": "code",
   "execution_count": null,
   "id": "cb90bd30",
   "metadata": {},
   "outputs": [],
   "source": []
  }
 ],
 "metadata": {
  "kernelspec": {
   "display_name": "Python 3 (ipykernel)",
   "language": "python",
   "name": "python3"
  },
  "language_info": {
   "codemirror_mode": {
    "name": "ipython",
    "version": 3
   },
   "file_extension": ".py",
   "mimetype": "text/x-python",
   "name": "python",
   "nbconvert_exporter": "python",
   "pygments_lexer": "ipython3",
   "version": "3.9.7"
  }
 },
 "nbformat": 4,
 "nbformat_minor": 5
}
